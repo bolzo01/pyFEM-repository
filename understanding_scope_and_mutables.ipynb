{
 "cells": [
  {
   "cell_type": "markdown",
   "id": "5991035a",
   "metadata": {},
   "source": [
    "# Understanding Scope and Mutables in Python\n",
    "\n",
    "In this notebook, we’ll explore two important Python concepts:\n",
    "1. **Scope** — how Python decides where and how variables can be accessed.\n",
    "2. **Mutables** — how some objects (like lists or NumPy arrays) can be modified in place.\n"
   ]
  },
  {
   "cell_type": "code",
   "execution_count": null,
   "id": "b8cc4e5a",
   "metadata": {},
   "outputs": [],
   "source": [
    "import numpy as np"
   ]
  },
  {
   "cell_type": "markdown",
   "id": "93b756c7",
   "metadata": {},
   "source": [
    "## 1. Scope in Python\n",
    "\n",
    "**Scope** refers to the region in a program where a variable is recognized and can be used.\n",
    "\n",
    "Python uses the **LEGB rule** to resolve variable names:\n",
    "- **L**: Local — inside the current function\n",
    "- **E**: Enclosing — in any enclosing functions\n",
    "- **G**: Global — at the top level of the module\n",
    "- **B**: Built-in — Python’s built-in names (e.g., `len`, `print`)\n",
    "\n",
    "Let’s illustrate this with an example.\n"
   ]
  },
  {
   "cell_type": "code",
   "execution_count": null,
   "id": "f2674a54",
   "metadata": {},
   "outputs": [],
   "source": [
    "# Global variable\n",
    "x = 10\n",
    "\n",
    "def outer_function():\n",
    "    # Enclosing variable\n",
    "    x = 20\n",
    "\n",
    "    def inner_function():\n",
    "        # Local variable\n",
    "        x = 30\n",
    "        print(\"Inside inner_function, x =\", x)  # Local scope\n",
    "\n",
    "    inner_function()\n",
    "    print(\"Inside outer_function, x =\", x)  # Enclosing scope\n",
    "\n",
    "outer_function() # it doesnt have argument\n",
    "print(\"In global scope, x =\", x)  # Global scope\n"
   ]
  },
  {
   "cell_type": "markdown",
   "id": "092b2f4c",
   "metadata": {},
   "source": [
    "### Explanation\n",
    "\n",
    "- The variable `x` exists in **three scopes**:\n",
    "  - Local to `inner_function` (`x = 30`)\n",
    "  - Enclosing (`outer_function`'s `x = 20`)\n",
    "  - Global (`x = 10`)\n",
    "\n",
    "Python looks for `x` starting from the **innermost scope outward** following the **LEGB rule**.\n"
   ]
  },
  {
   "cell_type": "markdown",
   "id": "61266014",
   "metadata": {},
   "source": [
    "### Modifying Global Variables\n",
    "\n",
    "You can **read** a global variable inside a function without issues.  \n",
    "But to **modify** it, you must declare it as `global`.\n",
    "\n",
    "-> Avoid global declarations! You'll generate a messy code.\n"
   ]
  },
  {
   "cell_type": "code",
   "execution_count": null,
   "id": "1be5ffff",
   "metadata": {},
   "outputs": [],
   "source": [
    "counter = 0  # global variable -> takes a variable and increases its value ->\n",
    "\n",
    "def increment():\n",
    "    global counter\n",
    "    counter += 1\n",
    "    print(\"Counter inside function:\", counter)\n",
    "\n",
    "increment()\n",
    "increment()\n",
    "print(\"Counter in global scope:\", counter)\n"
   ]
  },
  {
   "cell_type": "markdown",
   "id": "a55507f2",
   "metadata": {},
   "source": [
    "## 2. Mutable Objects (NumPy Example)\n",
    "\n",
    "A **mutable** object can be modified after it’s created.\n",
    "\n",
    "Common mutable objects: `list`, `dict`, `set`, and `numpy.ndarray`.\n",
    "\n",
    "Let’s demonstrate how **NumPy arrays** behave when passed to functions.\n"
   ]
  },
  {
   "cell_type": "code",
   "execution_count": null,
   "id": "45286f6d",
   "metadata": {},
   "outputs": [],
   "source": [
    "def modify_array(arr):\n",
    "    \"\"\"This function modifies the array in place.\"\"\"\n",
    "    arr[0] = 999\n",
    "    print(\"Inside function:\", arr)\n",
    "\n",
    "# Create a NumPy array\n",
    "my_array = np.array([1, 2, 3, 4, 5])\n",
    "print(\"Before function call:\", my_array) # mi aspetto di vedere i valori nelle parentesi quadre\n",
    "\n",
    "my_array = modify_array(my_array)\n",
    "print(\"After function call:\", my_array)\n"
   ]
  },
  {
   "cell_type": "markdown",
   "id": "d6201a69",
   "metadata": {},
   "source": [
    "### Explanation\n",
    "\n",
    "- The array `my_array` **changes** even outside the function.\n",
    "- This happens because **NumPy arrays are mutable**, and Python passes a **reference** to the same memory location — not a copy.\n",
    "\n",
    "When you call:\n",
    "\n",
    "modify_array(my_array)\n",
    "\n",
    "you’re not passing a copy of my_array into the function: you’re passing a reference to the same NumPy array object in memory: arr and my_array both point to the same underlying array data. This means that when you modify arr[0], you’re actually modifying the shared data buffer. And that’s why my_array changes outside the function, too."
   ]
  },
  {
   "cell_type": "markdown",
   "id": "b7aeac3b",
   "metadata": {},
   "source": [
    "## 3. Immutable Objects \n",
    "\n",
    "Let's see what happens with immutable types (like int, float, str, tuple), where passing to a function doesn’t affect the original variable."
   ]
  },
  {
   "cell_type": "code",
   "execution_count": null,
   "id": "b13461bb",
   "metadata": {},
   "outputs": [],
   "source": [
    "# example with an integer\n",
    "\n",
    "def modify_value(x):\n",
    "    \"\"\"This function tries to modify the value.\"\"\"\n",
    "    x = 999\n",
    "    print(\"Inside function:\", x)\n",
    "\n",
    "# Create an integer\n",
    "my_value = 10\n",
    "print(\"Before function call:\", my_value)\n",
    "\n",
    "modify_value(my_value)\n",
    "print(\"After function call:\", my_value)"
   ]
  },
  {
   "cell_type": "code",
   "execution_count": null,
   "id": "4c69a887",
   "metadata": {},
   "outputs": [],
   "source": [
    "# example with a tuple\n",
    "\n",
    "def modify_tuple(t):\n",
    "    \"\"\"This function tries to modify the tuple.\"\"\"\n",
    "    t[0] = 999  # Attempt to modify\n",
    "    print(\"Inside function:\", t)\n",
    "\n",
    "# Create a tuple\n",
    "my_tuple = (1, 2, 3)\n",
    "print(\"Before function call:\", my_tuple)\n",
    "\n",
    "modify_tuple(my_tuple)\n",
    "print(\"After function call:\", my_tuple)\n",
    "# gives error -> im trying to modify a tuple which is unmutable"
   ]
  },
  {
   "cell_type": "code",
   "execution_count": null,
   "id": "c6e45271",
   "metadata": {},
   "outputs": [],
   "source": []
  },
  {
   "cell_type": "markdown",
   "id": "6fee5856",
   "metadata": {},
   "source": [
    "You can’t even try to change an element of a tuple: Python prevents it because tuples are immutable containers."
   ]
  },
  {
   "cell_type": "markdown",
   "id": "87b7a0d0",
   "metadata": {},
   "source": [
    "### Avoiding Unintended Modifications\n",
    "\n",
    "To avoid altering the original array, you can pass a **copy**:\n"
   ]
  },
  {
   "cell_type": "code",
   "execution_count": null,
   "id": "2efb58cc",
   "metadata": {},
   "outputs": [],
   "source": [
    "def safe_modify_array(arr):\n",
    "    \"\"\"Modifies a copy of the input array so that the original is not affected.\"\"\"\n",
    "    arr_copy = arr.copy()\n",
    "    arr_copy[0] = -999\n",
    "    print(\"Inside function (copy):\", arr_copy)\n",
    "\n",
    "# Original array\n",
    "my_array = np.array([10, 20, 30])\n",
    "print(\"Before function call:\", my_array)\n",
    "\n",
    "safe_modify_array(my_array)\n",
    "print(\"After function call:\", my_array)\n"
   ]
  },
  {
   "cell_type": "markdown",
   "id": "fa3847c6",
   "metadata": {},
   "source": [
    "## Summary\n",
    "\n",
    "| Concept | Description | Example |\n",
    "|----------|--------------|----------|\n",
    "| Scope | Determines where variables are visible | Local, Enclosing, Global |\n",
    "| Mutable | Object that can be changed in place | NumPy array, list |\n",
    "| Immutable | Object that cannot be changed | int, float, str, tuple |\n",
    "\n",
    "\n",
    "- Scope controls where variables live and how they can be accessed.\n",
    "- Mutable objects (like NumPy arrays) can be modified inside functions, affecting the original.\n",
    "- Use `.copy()` if you want to prevent such changes."
   ]
  },
  {
   "cell_type": "markdown",
   "id": "869f9bc0",
   "metadata": {},
   "source": []
  }
 ],
 "metadata": {
  "kernelspec": {
   "display_name": "myenv",
   "language": "python",
   "name": "python3"
  },
  "language_info": {
   "codemirror_mode": {
    "name": "ipython",
    "version": 3
   },
   "file_extension": ".py",
   "mimetype": "text/x-python",
   "name": "python",
   "nbconvert_exporter": "python",
   "pygments_lexer": "ipython3",
   "version": "3.13.7"
  }
 },
 "nbformat": 4,
 "nbformat_minor": 5
}
