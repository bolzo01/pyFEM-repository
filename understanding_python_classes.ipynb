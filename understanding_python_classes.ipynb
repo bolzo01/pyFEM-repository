{
 "cells": [
  {
   "cell_type": "markdown",
   "id": "ff37687e",
   "metadata": {},
   "source": [
    "# Understanding Python Classes\n",
    "\n",
    "In this notebook, we’ll learn:\n",
    "1. What a class is\n",
    "2. The difference between class attributes and instance attributes\n",
    "3. How the `__init__` method works"
   ]
  },
  {
   "cell_type": "code",
   "execution_count": 2,
   "id": "0e964617",
   "metadata": {},
   "outputs": [],
   "source": [
    "# 1. What is a Class?\n",
    "# It defines the structure (attributes) and behavior (methods) that the objects will have.\n",
    "\n",
    "class Dog:\n",
    "    # Class attribute\n",
    "    species = \"Canis familiaris\" # everytime i define a dog it becomes automatically canis familiaris -> define witout the need to iniztialize the object\n",
    "\n",
    "    # __init__ is a special method that is called when an object is instantiated (some call it \"constructor\") but that's wrong.\n",
    "    # __new__() creates the object, while __init__() initializes it.\n",
    "    # While many consider __init__ a constructor because it's called when an object is instantiated,\n",
    "    # it's more accurately an initializer.\n",
    "    # __new__() is the method that handles the actual construction\n",
    "    # and returns the new instance, which is then passed to __init__ for setup.\n",
    "    # __init__() automatically initializes the state of the object state by setting values for its members or instance variables\n",
    "    def __init__(self, name, age): # this method is called audtomatically everytime i define an object -> allow you to initialize ur object\n",
    "        # Instance attributes\n",
    "        self.name = name\n",
    "        self.age = age\n",
    "\n",
    "    # Method (function that belongs to a class) -> allow to specify the object\n",
    "    def bark(self):\n",
    "        return f\"{self.name} says woof!\"\n"
   ]
  },
  {
   "cell_type": "code",
   "execution_count": 1,
   "id": "377e92e8",
   "metadata": {},
   "outputs": [
    {
     "ename": "NameError",
     "evalue": "name 'Dog' is not defined",
     "output_type": "error",
     "traceback": [
      "\u001b[31m---------------------------------------------------------------------------\u001b[39m",
      "\u001b[31mNameError\u001b[39m                                 Traceback (most recent call last)",
      "\u001b[36mCell\u001b[39m\u001b[36m \u001b[39m\u001b[32mIn[1]\u001b[39m\u001b[32m, line 7\u001b[39m\n\u001b[32m      1\u001b[39m \u001b[38;5;66;03m# 2. Class Attributes\u001b[39;00m\n\u001b[32m      2\u001b[39m \n\u001b[32m      3\u001b[39m \u001b[38;5;66;03m# Class attributes are shared by *all* instances of the class.\u001b[39;00m\n\u001b[32m      4\u001b[39m \u001b[38;5;66;03m# They are defined outside any method and usually describe a general property.\u001b[39;00m\n\u001b[32m      5\u001b[39m \n\u001b[32m      6\u001b[39m \u001b[38;5;66;03m# Let's access the class attribute directly from the class:\u001b[39;00m\n\u001b[32m----> \u001b[39m\u001b[32m7\u001b[39m \u001b[38;5;28mprint\u001b[39m(\u001b[33m\"\u001b[39m\u001b[33mDog species (from class):\u001b[39m\u001b[33m\"\u001b[39m, \u001b[43mDog\u001b[49m.species)\n\u001b[32m     10\u001b[39m \u001b[38;5;66;03m# Now let's create two Dog objects and check the attribute:\u001b[39;00m\n\u001b[32m     11\u001b[39m dog1 = Dog(\u001b[33m\"\u001b[39m\u001b[33mBuddy\u001b[39m\u001b[33m\"\u001b[39m, \u001b[32m3\u001b[39m)\n",
      "\u001b[31mNameError\u001b[39m: name 'Dog' is not defined"
     ]
    }
   ],
   "source": [
    "# 2. Class Attributes\n",
    "\n",
    "# Class attributes are shared by *all* instances of the class.\n",
    "# They are defined outside any method and usually describe a general property.\n",
    "\n",
    "# Let's access the class attribute directly from the class:\n",
    "print(\"Dog species (from class):\", Dog.species)\n",
    "\n",
    "\n",
    "# Now let's create two Dog objects and check the attribute:\n",
    "dog1 = Dog(\"Buddy\", 3)\n",
    "dog2 = Dog(\"Milo\", 5)\n",
    "\n",
    "print(\"Dog1 species:\", dog1.species)\n",
    "print(\"Dog2 species:\", dog2.species)\n",
    "\n",
    "# Both share the same value, because 'species' is a class attribute.\n"
   ]
  },
  {
   "cell_type": "code",
   "execution_count": 3,
   "id": "d7b226ba",
   "metadata": {},
   "outputs": [
    {
     "ename": "NameError",
     "evalue": "name 'dog1' is not defined",
     "output_type": "error",
     "traceback": [
      "\u001b[31m---------------------------------------------------------------------------\u001b[39m",
      "\u001b[31mNameError\u001b[39m                                 Traceback (most recent call last)",
      "\u001b[36mCell\u001b[39m\u001b[36m \u001b[39m\u001b[32mIn[3]\u001b[39m\u001b[32m, line 6\u001b[39m\n\u001b[32m      1\u001b[39m \u001b[38;5;66;03m# 3. Instance Attributes\u001b[39;00m\n\u001b[32m      2\u001b[39m \n\u001b[32m      3\u001b[39m \u001b[38;5;66;03m# Instance attributes are unique to each object.\u001b[39;00m\n\u001b[32m      4\u001b[39m \u001b[38;5;66;03m# They are defined inside the __init__ method and prefixed with 'self'.\u001b[39;00m\n\u001b[32m----> \u001b[39m\u001b[32m6\u001b[39m \u001b[38;5;28mprint\u001b[39m(\u001b[33m\"\u001b[39m\u001b[33mDog1 name:\u001b[39m\u001b[33m\"\u001b[39m, \u001b[43mdog1\u001b[49m.name)\n\u001b[32m      7\u001b[39m \u001b[38;5;28mprint\u001b[39m(\u001b[33m\"\u001b[39m\u001b[33mDog1 age:\u001b[39m\u001b[33m\"\u001b[39m, dog1.age)\n\u001b[32m      9\u001b[39m \u001b[38;5;28mprint\u001b[39m(\u001b[33m\"\u001b[39m\u001b[33mDog2 name:\u001b[39m\u001b[33m\"\u001b[39m, dog2.name)\n",
      "\u001b[31mNameError\u001b[39m: name 'dog1' is not defined"
     ]
    }
   ],
   "source": [
    "# 3. Instance Attributes\n",
    "\n",
    "# Instance attributes are unique to each object.\n",
    "# They are defined inside the __init__ method and prefixed with 'self'.\n",
    "\n",
    "print(\"Dog1 name:\", dog1.name)\n",
    "print(\"Dog1 age:\", dog1.age)\n",
    "\n",
    "print(\"Dog2 name:\", dog2.name)\n",
    "print(\"Dog2 age:\", dog2.age)\n",
    "\n",
    "# Each object stores its own data.\n"
   ]
  },
  {
   "cell_type": "code",
   "execution_count": 4,
   "id": "957ace73",
   "metadata": {},
   "outputs": [
    {
     "name": "stdout",
     "output_type": "stream",
     "text": [
      "Creating a new Cat...\n",
      "Creating a new Cat...\n",
      "Cat name: Whiskers | color: white\n",
      "Cat name: Meatball | color: orange\n"
     ]
    }
   ],
   "source": [
    "# 4. The __init__ Method\n",
    "\n",
    "# The __init__ method is called automatically when a new object is created.\n",
    "# It initializes the object's attributes.\n",
    "\n",
    "# Let’s inspect it step-by-step:\n",
    "class Cat:\n",
    "    species = \"Felis catus\"  # class attribute\n",
    "    def __init__(self, name, color):\n",
    "        # This is called every time a new Cat is created.\n",
    "        print(\"Creating a new Cat...\")\n",
    "        self.name = name     # instance attribute\n",
    "        self.color = color   # instance attribute\n",
    "\n",
    "# Creating a Cat triggers __init__\n",
    "cat1 = Cat(\"Whiskers\", \"white\")\n",
    "cat2 = Cat(\"Meatball\", \"orange\")\n",
    "\n",
    "print(\"Cat name:\", cat1.name, \"| color:\", cat1.color)\n",
    "print(\"Cat name:\", cat2.name, \"| color:\", cat2.color)\n"
   ]
  },
  {
   "cell_type": "code",
   "execution_count": null,
   "id": "b65d5b3a",
   "metadata": {},
   "outputs": [],
   "source": [
    "# 5. Summary\n",
    "\n",
    "# Class attributes: shared by all instances -> all items have te same information\n",
    "# Instance attributes: unique to each object ->specify the information i want to deifne the element\n",
    "# __init__ method: initializes instance attributes\n"
   ]
  }
 ],
 "metadata": {
  "kernelspec": {
   "display_name": "pyfem",
   "language": "python",
   "name": "python3"
  },
  "language_info": {
   "codemirror_mode": {
    "name": "ipython",
    "version": 3
   },
   "file_extension": ".py",
   "mimetype": "text/x-python",
   "name": "python",
   "nbconvert_exporter": "python",
   "pygments_lexer": "ipython3",
   "version": "3.13.7"
  }
 },
 "nbformat": 4,
 "nbformat_minor": 5
}
